{
 "cells": [
  {
   "cell_type": "markdown",
   "metadata": {},
   "source": [
    "## Аминокислотные последовательности антител"
   ]
  },
  {
   "cell_type": "markdown",
   "metadata": {},
   "source": [
    "<img src=\"https://i0.wp.com/www.blopig.com/blog/wp-content/uploads/2013/07/Antibody1.png?ssl=1\" style=\"background:white\" width=\"600\"/>"
   ]
  },
  {
   "cell_type": "markdown",
   "metadata": {},
   "source": [
    "Как и любые белки́, [антитела](https://ru.wikipedia.org/wiki/%D0%90%D0%BD%D1%82%D0%B8%D1%82%D0%B5%D0%BB%D0%B0) состоят из [аминокислот](https://shorturl.at/Wc6V4), соединённых пептидными связями.\n",
    "\n",
    "Каждой аминокислоте соответствует однобуквенный код (A - аланин, C - цистеин, D - аспартат, и т.д.), поэтому мы можем компактно записывать первичную структуру белков (то есть просто цепочку аминокислот) в виде строк.\n",
    "\n",
    "Сегодня нам предстоит решить две задачи:\n",
    "1. Обучить модель-классификатор, позволяющую по аминокислотной последовательности понять, из какого животного было получено антитело\n",
    "2. Обучить модель-генератор новых антител с условием на биологический вид"
   ]
  },
  {
   "cell_type": "markdown",
   "metadata": {},
   "source": [
    "#### Подготовим данные"
   ]
  },
  {
   "cell_type": "markdown",
   "metadata": {},
   "source": [
    "В нашем наборе данных присутствуют антитела (точнее - небольшие фрагменты тяжелых цепей антител, VH-домены, непосредственно участвующие в связывании инородных молекул - антигенов), полученные из образцов пяти биологических видов: человек, макака-резус, мышь, кролик и верблюд."
   ]
  },
  {
   "cell_type": "code",
   "execution_count": 160,
   "metadata": {
    "execution": {
     "iopub.execute_input": "2024-11-08T21:48:40.478247Z",
     "iopub.status.busy": "2024-11-08T21:48:40.477314Z",
     "iopub.status.idle": "2024-11-08T21:48:40.508825Z",
     "shell.execute_reply": "2024-11-08T21:48:40.508047Z",
     "shell.execute_reply.started": "2024-11-08T21:48:40.478207Z"
    },
    "tags": []
   },
   "outputs": [
    {
     "data": {
      "text/html": [
       "<div>\n",
       "<style scoped>\n",
       "    .dataframe tbody tr th:only-of-type {\n",
       "        vertical-align: middle;\n",
       "    }\n",
       "\n",
       "    .dataframe tbody tr th {\n",
       "        vertical-align: top;\n",
       "    }\n",
       "\n",
       "    .dataframe thead th {\n",
       "        text-align: right;\n",
       "    }\n",
       "</style>\n",
       "<table border=\"1\" class=\"dataframe\">\n",
       "  <thead>\n",
       "    <tr style=\"text-align: right;\">\n",
       "      <th></th>\n",
       "      <th>sequence</th>\n",
       "      <th>species</th>\n",
       "    </tr>\n",
       "  </thead>\n",
       "  <tbody>\n",
       "    <tr>\n",
       "      <th>1615</th>\n",
       "      <td>HVQLVESGGGSVEAGGSLRLSCAASGFTFGSYYMSWVRQAPGKGLE...</td>\n",
       "      <td>Camel</td>\n",
       "    </tr>\n",
       "    <tr>\n",
       "      <th>2649</th>\n",
       "      <td>SVKVSCKASGGTFSTFAFSWVRQAPGQGLEWMGGVTPVFRTANYAQ...</td>\n",
       "      <td>Mouse</td>\n",
       "    </tr>\n",
       "    <tr>\n",
       "      <th>44</th>\n",
       "      <td>QIQLVQSGPELKKPGETVKISCKASGYTFTEYPMHWVKQAPGTGFK...</td>\n",
       "      <td>Human</td>\n",
       "    </tr>\n",
       "    <tr>\n",
       "      <th>3713</th>\n",
       "      <td>QVQLQESGPGLVKPSQTLSLSCAISGDSVSNNSTTWNWIRQSPSRG...</td>\n",
       "      <td>Rhesus</td>\n",
       "    </tr>\n",
       "    <tr>\n",
       "      <th>4371</th>\n",
       "      <td>QQQLEESGGGLVKPGGTLTLTCTASGFSFSSSYYMCWVRQAPGKGL...</td>\n",
       "      <td>Rabbit</td>\n",
       "    </tr>\n",
       "    <tr>\n",
       "      <th>1834</th>\n",
       "      <td>ESGGGSVQPGGSLRLSCASSGYTANSGCMGWFRQTPGKEREAVAVV...</td>\n",
       "      <td>Camel</td>\n",
       "    </tr>\n",
       "    <tr>\n",
       "      <th>2638</th>\n",
       "      <td>SVKVSCKASGYTFTNYFMHWLRQAPGQGLEWMGIINPSGGNTNYAK...</td>\n",
       "      <td>Mouse</td>\n",
       "    </tr>\n",
       "    <tr>\n",
       "      <th>1641</th>\n",
       "      <td>HVQLVESGGDSVQAGGSLRLSCAASGYTYSSNCMGWFRQAPGKARE...</td>\n",
       "      <td>Camel</td>\n",
       "    </tr>\n",
       "    <tr>\n",
       "      <th>842</th>\n",
       "      <td>EVQLQQSGPELVKPGASVKISCKASGYTFTDYYMNWVKQSHGKSLE...</td>\n",
       "      <td>Human</td>\n",
       "    </tr>\n",
       "    <tr>\n",
       "      <th>2408</th>\n",
       "      <td>SVKVSCKASGGTFSNYGISWVRQAPGQGLEWVGGIIPISATTNYAQ...</td>\n",
       "      <td>Mouse</td>\n",
       "    </tr>\n",
       "  </tbody>\n",
       "</table>\n",
       "</div>"
      ],
      "text/plain": [
       "                                               sequence species\n",
       "1615  HVQLVESGGGSVEAGGSLRLSCAASGFTFGSYYMSWVRQAPGKGLE...   Camel\n",
       "2649  SVKVSCKASGGTFSTFAFSWVRQAPGQGLEWMGGVTPVFRTANYAQ...   Mouse\n",
       "44    QIQLVQSGPELKKPGETVKISCKASGYTFTEYPMHWVKQAPGTGFK...   Human\n",
       "3713  QVQLQESGPGLVKPSQTLSLSCAISGDSVSNNSTTWNWIRQSPSRG...  Rhesus\n",
       "4371  QQQLEESGGGLVKPGGTLTLTCTASGFSFSSSYYMCWVRQAPGKGL...  Rabbit\n",
       "1834  ESGGGSVQPGGSLRLSCASSGYTANSGCMGWFRQTPGKEREAVAVV...   Camel\n",
       "2638  SVKVSCKASGYTFTNYFMHWLRQAPGQGLEWMGIINPSGGNTNYAK...   Mouse\n",
       "1641  HVQLVESGGDSVQAGGSLRLSCAASGYTYSSNCMGWFRQAPGKARE...   Camel\n",
       "842   EVQLQQSGPELVKPGASVKISCKASGYTFTDYYMNWVKQSHGKSLE...   Human\n",
       "2408  SVKVSCKASGGTFSNYGISWVRQAPGQGLEWVGGIIPISATTNYAQ...   Mouse"
      ]
     },
     "execution_count": 160,
     "metadata": {},
     "output_type": "execute_result"
    }
   ],
   "source": [
    "import pandas as pd\n",
    "\n",
    "antibodies = pd.read_csv(\"../datasets/antibodies.csv\").sample(frac=1.0)\n",
    "antibodies.head(10)"
   ]
  },
  {
   "cell_type": "markdown",
   "metadata": {},
   "source": [
    "Создадим словари для аминокислот, специальных токенов и биологических видов:"
   ]
  },
  {
   "cell_type": "code",
   "execution_count": 161,
   "metadata": {
    "execution": {
     "iopub.execute_input": "2024-11-08T21:48:45.316340Z",
     "iopub.status.busy": "2024-11-08T21:48:45.315115Z",
     "iopub.status.idle": "2024-11-08T21:48:45.337039Z",
     "shell.execute_reply": "2024-11-08T21:48:45.336311Z",
     "shell.execute_reply.started": "2024-11-08T21:48:45.316293Z"
    },
    "tags": []
   },
   "outputs": [
    {
     "data": {
      "text/plain": [
       "{'Camel': 0, 'Human': 1, 'Mouse': 2, 'Rabbit': 3, 'Rhesus': 4}"
      ]
     },
     "execution_count": 161,
     "metadata": {},
     "output_type": "execute_result"
    }
   ],
   "source": [
    "SPECIAL_TOKENS = \"_?\\n\"\n",
    "AMINO_ACIDS = \"ACDEFGHIKLMNPQRSTVWYX\"\n",
    "VOCAB = {char: i for i, char in enumerate(SPECIAL_TOKENS + AMINO_ACIDS)}\n",
    "SPECIES = {name: i for i, name in enumerate(sorted(antibodies[\"species\"].unique()))}\n",
    "SPECIES"
   ]
  },
  {
   "cell_type": "code",
   "execution_count": 162,
   "metadata": {
    "execution": {
     "iopub.execute_input": "2024-11-08T21:48:47.170234Z",
     "iopub.status.busy": "2024-11-08T21:48:47.169151Z",
     "iopub.status.idle": "2024-11-08T21:48:47.221409Z",
     "shell.execute_reply": "2024-11-08T21:48:47.220711Z",
     "shell.execute_reply.started": "2024-11-08T21:48:47.170199Z"
    },
    "tags": []
   },
   "outputs": [
    {
     "name": "stdout",
     "output_type": "stream",
     "text": [
      "Train size:  4500\n",
      "Test size:  500\n"
     ]
    }
   ],
   "source": [
    "import torch\n",
    "from torch import Tensor, nn\n",
    "from torch.nn import functional as F\n",
    "from torch.utils.data import DataLoader, Dataset, random_split\n",
    "\n",
    "\n",
    "class AntibodiesDataset(Dataset):\n",
    "    def __init__(self, df: pd.DataFrame) -> None:\n",
    "        self.sequences = [\n",
    "            [1] + [VOCAB[char] for char in s] + [2] for s in df[\"sequence\"]\n",
    "        ]\n",
    "        self.labels = [SPECIES[label] for label in df[\"species\"]]\n",
    "\n",
    "    def __getitem__(self, index: int) -> tuple[list[int], int]:\n",
    "        return self.sequences[index], self.labels[index]\n",
    "\n",
    "    def __len__(self) -> int:\n",
    "        return len(self.sequences)\n",
    "\n",
    "    @staticmethod\n",
    "    def collate_fn(batch: list[tuple[list[int], int]]) -> tuple[Tensor, Tensor]:\n",
    "        encoded, lang_ids = zip(*batch)\n",
    "        max_len = max(map(len, encoded))\n",
    "        x = torch.zeros((len(encoded), max_len), dtype=int)\n",
    "        for i, seq in enumerate(encoded):\n",
    "            x[i, : len(seq)] = torch.tensor(seq)\n",
    "\n",
    "        return x, torch.tensor(list(lang_ids))\n",
    "\n",
    "\n",
    "labels = sorted(antibodies[\"species\"].unique())\n",
    "dataset = AntibodiesDataset(antibodies)\n",
    "train_dataset, test_dataset = random_split(\n",
    "    dataset, [4500, 500], torch.Generator().manual_seed(42)\n",
    ")\n",
    "print(\"Train size: \", len(train_dataset))\n",
    "print(\"Test size: \", len(test_dataset))"
   ]
  },
  {
   "cell_type": "code",
   "execution_count": 163,
   "metadata": {
    "execution": {
     "iopub.execute_input": "2024-11-08T21:48:48.573054Z",
     "iopub.status.busy": "2024-11-08T21:48:48.572069Z",
     "iopub.status.idle": "2024-11-08T21:48:48.586252Z",
     "shell.execute_reply": "2024-11-08T21:48:48.585159Z",
     "shell.execute_reply.started": "2024-11-08T21:48:48.573014Z"
    },
    "tags": []
   },
   "outputs": [],
   "source": [
    "train_loader = DataLoader(\n",
    "    train_dataset, batch_size=32, shuffle=True, collate_fn=dataset.collate_fn\n",
    ")\n",
    "test_loader = DataLoader(\n",
    "    test_dataset, batch_size=32, shuffle=False, collate_fn=dataset.collate_fn\n",
    ")"
   ]
  },
  {
   "cell_type": "markdown",
   "metadata": {},
   "source": [
    "#### Задание 1 (6 баллов). Классификация антител по биологическим видам"
   ]
  },
  {
   "cell_type": "markdown",
   "metadata": {},
   "source": [
    "Мы начнём с нашей рекуррентной ячейки с последней практики:"
   ]
  },
  {
   "cell_type": "code",
   "execution_count": 164,
   "metadata": {
    "execution": {
     "iopub.execute_input": "2024-11-08T21:48:52.711767Z",
     "iopub.status.busy": "2024-11-08T21:48:52.710739Z",
     "iopub.status.idle": "2024-11-08T21:48:52.722151Z",
     "shell.execute_reply": "2024-11-08T21:48:52.721459Z",
     "shell.execute_reply.started": "2024-11-08T21:48:52.711734Z"
    },
    "tags": []
   },
   "outputs": [],
   "source": [
    "class RNNCell(nn.Module):\n",
    "    \"\"\"\n",
    "    (x_{t}, h_{t-1}) -> h_{t}\n",
    "    \"\"\"\n",
    "\n",
    "    def __init__(self, input_dim: int, hidden_dim: int) -> None:\n",
    "        super().__init__()\n",
    "        self.linear = nn.Linear(input_dim + hidden_dim, hidden_dim)\n",
    "\n",
    "    def forward(self, x: Tensor, h: Tensor) -> Tensor:\n",
    "        # x: B x input_dim\n",
    "        # h: B x hidden_dim\n",
    "        h = torch.cat([x, h], dim=1)\n",
    "        h = self.linear(h)\n",
    "        return F.tanh(h)"
   ]
  },
  {
   "cell_type": "code",
   "execution_count": 8,
   "metadata": {
    "execution": {
     "iopub.execute_input": "2024-11-08T18:48:24.552711Z",
     "iopub.status.busy": "2024-11-08T18:48:24.551798Z",
     "iopub.status.idle": "2024-11-08T18:48:24.566036Z",
     "shell.execute_reply": "2024-11-08T18:48:24.565368Z",
     "shell.execute_reply.started": "2024-11-08T18:48:24.552681Z"
    },
    "tags": []
   },
   "outputs": [],
   "source": [
    "class GRUCell(nn.Module):\n",
    "    \"\"\"\n",
    "    (x_{t}, h_{t-1}) -> h_{t}\n",
    "    \"\"\"\n",
    "\n",
    "    def __init__(self, input_dim: int, hidden_dim: int) -> None:\n",
    "        super().__init__()\n",
    "        self.W = nn.Linear(input_dim + hidden_dim, hidden_dim)\n",
    "        self.Wz = nn.Linear(input_dim + hidden_dim, hidden_dim)\n",
    "        self.Wr = nn.Linear(input_dim + hidden_dim, hidden_dim)\n",
    "\n",
    "    def forward(self, x: Tensor, h: Tensor) -> Tensor:\n",
    "        # x: B x input_dim\n",
    "        # h: B x hidden_dim\n",
    "        z_t = F.sigmoid(self.Wz(torch.cat([h, x], dim=1)))\n",
    "        r_t = F.sigmoid(self.Wr(torch.cat([h, x], dim=1)))\n",
    "        h_hat = F.tanh(self.W(torch.cat([r_t * h, x], dim=1)))\n",
    "        return (1 - z_t) * h + z_t * h_hat"
   ]
  },
  {
   "cell_type": "markdown",
   "metadata": {},
   "source": [
    "**1.1. (1 балл)** Реализуйте архитектуру модели, которая по входной последовательности будет давать вероятностное распределение над биологическими видами.\n",
    "Она даже немного проще, чем модель для генерации: линейный блок-классификатор мы применяем только к последнему скрытому состоянию (когда вся последовательность обработана).\n",
    "\n",
    "**1.2. (2 балла)** Обучите модель в течение 10-50 эпох, постройте графики точности классифкации для обучающей и тестовой выборок.\n",
    "\n",
    "**1.3. (3 балла)** Реализуйте другой вид рекуррентной ячейки (GRU или LSTM, см. практику), обучите модель на его основе, выведите графики точности. Как изменилась точность модели и скорость обучения?\n",
    "\n",
    "\n",
    "Указание: используйте небольшие модели, с размером скрытого слоя 64"
   ]
  },
  {
   "cell_type": "code",
   "execution_count": 165,
   "metadata": {
    "execution": {
     "iopub.execute_input": "2024-11-08T21:48:56.485828Z",
     "iopub.status.busy": "2024-11-08T21:48:56.484624Z",
     "iopub.status.idle": "2024-11-08T21:48:56.515400Z",
     "shell.execute_reply": "2024-11-08T21:48:56.514732Z",
     "shell.execute_reply.started": "2024-11-08T21:48:56.485785Z"
    },
    "tags": []
   },
   "outputs": [],
   "source": [
    "\n",
    "class RNN(nn.Module):\n",
    "    def __init__(self, vocab_size: int, hidden_dim: int = 64, n_classes: int = 5, cell: nn.Module = RNNCell) -> None:\n",
    "        super().__init__()\n",
    "        self.embed = nn.Embedding(vocab_size, hidden_dim)\n",
    "        self.init_h = nn.Parameter(data=torch.randn(1, hidden_dim))\n",
    "        self.rnn = cell(hidden_dim, hidden_dim)\n",
    "        self.lm_head = nn.Linear(hidden_dim, n_classes)\n",
    "\n",
    "\n",
    "    def forward(self, x: Tensor) -> Tensor:\n",
    "        # x: B x T\n",
    "        # embed(x): B x T -> B x T x hidden_dim\n",
    "        B, T = x.shape\n",
    "\n",
    "        x = self.embed(x)  # B x T x hidden_dim\n",
    "        h = self.init_h.expand((B, -1)) # B x hidden_dim\n",
    "\n",
    "        for t in range(T):\n",
    "            xt = x[:, t, :]\n",
    "            h = self.rnn.forward(xt, h)  # B x hidden\n",
    "\n",
    "        return self.lm_head(h) # B x n_classes\n",
    "\n"
   ]
  },
  {
   "cell_type": "code",
   "execution_count": 166,
   "metadata": {
    "execution": {
     "iopub.execute_input": "2024-11-08T21:49:01.205436Z",
     "iopub.status.busy": "2024-11-08T21:49:01.204261Z",
     "iopub.status.idle": "2024-11-08T21:49:01.228145Z",
     "shell.execute_reply": "2024-11-08T21:49:01.227276Z",
     "shell.execute_reply.started": "2024-11-08T21:49:01.205382Z"
    },
    "tags": []
   },
   "outputs": [
    {
     "data": {
      "text/plain": [
       "<torch._C.Generator at 0x7f84c6bb7eb0>"
      ]
     },
     "execution_count": 166,
     "metadata": {},
     "output_type": "execute_result"
    }
   ],
   "source": [
    "device = torch.device(\"cuda:0\" if torch.cuda.is_available() else \"cpu\")\n",
    "torch.manual_seed(42)"
   ]
  },
  {
   "cell_type": "code",
   "execution_count": 170,
   "metadata": {
    "execution": {
     "iopub.execute_input": "2024-11-08T21:53:38.937051Z",
     "iopub.status.busy": "2024-11-08T21:53:38.936010Z",
     "iopub.status.idle": "2024-11-08T21:53:38.948133Z",
     "shell.execute_reply": "2024-11-08T21:53:38.947505Z",
     "shell.execute_reply.started": "2024-11-08T21:53:38.937013Z"
    },
    "tags": []
   },
   "outputs": [],
   "source": [
    "def train_epoch(dataloader: DataLoader,model: nn.Module,optimizer: torch.optim.Optimizer):\n",
    "    model.train()\n",
    "    loss_total = 0\n",
    "    n_correct = 0\n",
    "    n_total = 0\n",
    "\n",
    "    for tokens, labels in train_loader:\n",
    "        logits = model(tokens.to(device))  \n",
    "        loss = F.cross_entropy(logits, labels.to(device))\n",
    "        loss.backward()\n",
    "        optimizer.step()\n",
    "        optimizer.zero_grad()\n",
    "        n_total += labels.size(0)\n",
    "        n_correct += (labels.to(device) == logits.argmax(dim=1)).sum().item()\n",
    "        loss_total += labels.size(0) * loss.item()\n",
    "        \n",
    "    loss=loss_total / n_total\n",
    "    acc = n_correct / n_total\n",
    "    \n",
    "    train_loss.append(loss)\n",
    "    train_acc.append(acc)"
   ]
  },
  {
   "cell_type": "code",
   "execution_count": 171,
   "metadata": {
    "execution": {
     "iopub.execute_input": "2024-11-08T21:53:41.966800Z",
     "iopub.status.busy": "2024-11-08T21:53:41.965877Z",
     "iopub.status.idle": "2024-11-08T21:53:41.977861Z",
     "shell.execute_reply": "2024-11-08T21:53:41.977175Z",
     "shell.execute_reply.started": "2024-11-08T21:53:41.966768Z"
    },
    "tags": []
   },
   "outputs": [],
   "source": [
    "@torch.no_grad()\n",
    "def test_epoch(dataloader: DataLoader,model: nn.Module):\n",
    "    model.eval()\n",
    "    loss_total = 0\n",
    "    n_correct = 0\n",
    "    n_total = 0\n",
    "\n",
    "    for tokens, labels in train_loader:\n",
    "        logits = model(tokens.to(device))  \n",
    "        loss = F.cross_entropy(logits, labels.to(device))\n",
    "        n_total += labels.size(0)\n",
    "        n_correct += (labels.to(device) == logits.argmax(dim=1)).sum().item()\n",
    "        loss_total += labels.size(0) * loss.item()\n",
    "    \n",
    "    loss=loss_total / n_total\n",
    "    acc = n_correct / n_total\n",
    "    \n",
    "    val_loss.append(loss)\n",
    "    val_acc.append(acc)"
   ]
  },
  {
   "cell_type": "code",
   "execution_count": 172,
   "metadata": {
    "execution": {
     "iopub.execute_input": "2024-11-08T21:53:53.341223Z",
     "iopub.status.busy": "2024-11-08T21:53:53.340101Z",
     "iopub.status.idle": "2024-11-08T21:55:29.559799Z",
     "shell.execute_reply": "2024-11-08T21:55:29.559097Z",
     "shell.execute_reply.started": "2024-11-08T21:53:53.341180Z"
    },
    "tags": []
   },
   "outputs": [
    {
     "name": "stdout",
     "output_type": "stream",
     "text": [
      "EPOCH 0\n",
      "Train: loss=1.51748, accuracy=0.30000; Val: loss=1.53020, accuracy=0.26089\n",
      "EPOCH 1\n",
      "Train: loss=1.32377, accuracy=0.41333; Val: loss=1.27310, accuracy=0.43467\n",
      "EPOCH 2\n",
      "Train: loss=1.37121, accuracy=0.40156; Val: loss=1.34800, accuracy=0.43778\n",
      "EPOCH 3\n",
      "Train: loss=1.27665, accuracy=0.43911; Val: loss=1.39362, accuracy=0.40244\n",
      "EPOCH 4\n",
      "Train: loss=1.27531, accuracy=0.42222; Val: loss=1.22981, accuracy=0.44978\n",
      "EPOCH 5\n",
      "Train: loss=1.25269, accuracy=0.43178; Val: loss=1.25158, accuracy=0.43733\n",
      "EPOCH 6\n",
      "Train: loss=1.27837, accuracy=0.42022; Val: loss=1.24687, accuracy=0.44044\n",
      "EPOCH 7\n",
      "Train: loss=1.24656, accuracy=0.44356; Val: loss=1.21657, accuracy=0.45111\n",
      "EPOCH 8\n",
      "Train: loss=1.22532, accuracy=0.44689; Val: loss=1.25067, accuracy=0.43178\n",
      "EPOCH 9\n",
      "Train: loss=1.21774, accuracy=0.44667; Val: loss=1.21625, accuracy=0.44622\n",
      "EPOCH 10\n",
      "Train: loss=1.21684, accuracy=0.45111; Val: loss=1.26321, accuracy=0.43733\n",
      "EPOCH 11\n",
      "Train: loss=1.22815, accuracy=0.42956; Val: loss=1.24099, accuracy=0.44200\n",
      "EPOCH 12\n",
      "Train: loss=1.21905, accuracy=0.45778; Val: loss=1.22334, accuracy=0.43911\n",
      "EPOCH 13\n",
      "Train: loss=1.23740, accuracy=0.43978; Val: loss=1.21133, accuracy=0.44644\n",
      "EPOCH 14\n",
      "Train: loss=1.21466, accuracy=0.44778; Val: loss=1.23842, accuracy=0.44556\n"
     ]
    }
   ],
   "source": [
    "torch.manual_seed(42)\n",
    "model = RNN(vocab_size=len(VOCAB)).to(device)\n",
    "optimizer = torch.optim.Adam(model.parameters(), lr=0.001)\n",
    "EPOCHS = 15\n",
    "train_loss = []\n",
    "train_acc = []\n",
    "val_loss = []\n",
    "val_acc = []\n",
    "\n",
    "for epoch in range(EPOCHS):\n",
    "    print(f\"EPOCH {epoch}\")\n",
    "    train_epoch(train_loader,model,optimizer) \n",
    "    test_epoch(test_loader,model)    \n",
    "    print(f\"Train: loss={train_loss[-1]:.5f}, accuracy={train_acc[-1]:.5f}; Val: loss={val_loss[-1]:.5f}, accuracy={val_acc[-1]:.5f}\")\n",
    "    \n",
    "    "
   ]
  },
  {
   "cell_type": "code",
   "execution_count": 173,
   "metadata": {
    "execution": {
     "iopub.execute_input": "2024-11-08T21:55:48.289258Z",
     "iopub.status.busy": "2024-11-08T21:55:48.288198Z",
     "iopub.status.idle": "2024-11-08T21:55:48.487443Z",
     "shell.execute_reply": "2024-11-08T21:55:48.486698Z",
     "shell.execute_reply.started": "2024-11-08T21:55:48.289213Z"
    },
    "tags": []
   },
   "outputs": [
    {
     "data": {
      "image/png": "[encoded data removed]",
      "text/plain": [
       "<Figure size 1000x500 with 1 Axes>"
      ]
     },
     "metadata": {},
     "output_type": "display_data"
    }
   ],
   "source": [
    "import matplotlib.pyplot as plt\n",
    "\n",
    "def grafics(train_acc, val_acc, conf):\n",
    "    plt.figure(figsize=(10, 5))\n",
    "    plt.plot(train_acc, label=f\"Train {conf}\", marker='o')\n",
    "    plt.plot(val_acc, label=f\"Val {conf}\", marker='o')\n",
    "    plt.xlabel(\"Epoch\")\n",
    "    plt.ylabel(conf)\n",
    "    plt.legend()\n",
    "    plt.tight_layout()\n",
    "    plt.show()  \n",
    "    \n",
    "grafics(train_acc,val_acc, \"Accuracy\")"
   ]
  },
  {
   "cell_type": "code",
   "execution_count": 174,
   "metadata": {
    "execution": {
     "iopub.execute_input": "2024-11-08T21:56:12.120182Z",
     "iopub.status.busy": "2024-11-08T21:56:12.119076Z",
     "iopub.status.idle": "2024-11-08T21:59:38.439164Z",
     "shell.execute_reply": "2024-11-08T21:59:38.438393Z",
     "shell.execute_reply.started": "2024-11-08T21:56:12.120147Z"
    },
    "tags": []
   },
   "outputs": [
    {
     "name": "stdout",
     "output_type": "stream",
     "text": [
      "EPOCH 0\n",
      "Train: loss=1.30375, accuracy=0.43889; Val: loss=0.88964, accuracy=0.74178\n",
      "EPOCH 1\n",
      "Train: loss=0.50976, accuracy=0.84467; Val: loss=0.22959, accuracy=0.92978\n",
      "EPOCH 2\n",
      "Train: loss=0.16609, accuracy=0.94889; Val: loss=0.11484, accuracy=0.96111\n",
      "EPOCH 3\n",
      "Train: loss=0.10286, accuracy=0.96844; Val: loss=0.06752, accuracy=0.98200\n",
      "EPOCH 4\n",
      "Train: loss=0.06669, accuracy=0.97844; Val: loss=0.12385, accuracy=0.95511\n",
      "EPOCH 5\n",
      "Train: loss=0.05175, accuracy=0.98311; Val: loss=0.03288, accuracy=0.99044\n",
      "EPOCH 6\n",
      "Train: loss=0.03769, accuracy=0.98889; Val: loss=0.02891, accuracy=0.99200\n",
      "EPOCH 7\n",
      "Train: loss=0.03492, accuracy=0.98867; Val: loss=0.02425, accuracy=0.99267\n",
      "EPOCH 8\n",
      "Train: loss=0.02810, accuracy=0.99222; Val: loss=0.02481, accuracy=0.99133\n",
      "EPOCH 9\n",
      "Train: loss=0.02609, accuracy=0.99200; Val: loss=0.01970, accuracy=0.99378\n",
      "EPOCH 10\n",
      "Train: loss=0.02085, accuracy=0.99422; Val: loss=0.01749, accuracy=0.99489\n",
      "EPOCH 11\n",
      "Train: loss=0.02363, accuracy=0.99267; Val: loss=0.01416, accuracy=0.99600\n",
      "EPOCH 12\n",
      "Train: loss=0.01256, accuracy=0.99600; Val: loss=0.00756, accuracy=0.99778\n",
      "EPOCH 13\n",
      "Train: loss=0.01018, accuracy=0.99733; Val: loss=0.00800, accuracy=0.99867\n",
      "EPOCH 14\n",
      "Train: loss=0.00706, accuracy=0.99778; Val: loss=0.00647, accuracy=0.99822\n"
     ]
    }
   ],
   "source": [
    "torch.manual_seed(42)\n",
    "model = RNN(vocab_size=len(VOCAB), cell = GRUCell).to(device)\n",
    "optimizer = torch.optim.Adam(model.parameters(), lr=0.001)\n",
    "EPOCHS = 15\n",
    "train_loss = []\n",
    "train_acc = []\n",
    "val_loss = []\n",
    "val_acc = []\n",
    "\n",
    "\n",
    "for epoch in range(EPOCHS):\n",
    "    print(f\"EPOCH {epoch}\")\n",
    "    train_epoch(train_loader,model,optimizer) \n",
    "    test_epoch(train_loader,model)    \n",
    "    print(f\"Train: loss={train_loss[-1]:.5f}, accuracy={train_acc[-1]:.5f}; Val: loss={val_loss[-1]:.5f}, accuracy={val_acc[-1]:.5f}\")"
   ]
  },
  {
   "cell_type": "code",
   "execution_count": 175,
   "metadata": {
    "execution": {
     "iopub.execute_input": "2024-11-08T21:59:49.161705Z",
     "iopub.status.busy": "2024-11-08T21:59:49.160456Z",
     "iopub.status.idle": "2024-11-08T21:59:49.341170Z",
     "shell.execute_reply": "2024-11-08T21:59:49.340414Z",
     "shell.execute_reply.started": "2024-11-08T21:59:49.161667Z"
    },
    "tags": []
   },
   "outputs": [
    {
     "data": {
      "image/png": "[encoded data removed]",
      "text/plain": [
       "<Figure size 1000x500 with 1 Axes>"
      ]
     },
     "metadata": {},
     "output_type": "display_data"
    }
   ],
   "source": [
    "grafics(train_acc,val_acc, \"Accuracy\")          "
   ]
  },
  {
   "cell_type": "markdown",
   "metadata": {},
   "source": [
    "#### Задание 2 (8 баллов + 4 бонусных). Генерация антител"
   ]
  },
  {
   "cell_type": "markdown",
   "metadata": {},
   "source": [
    "Поиграем за B-лимфоцит и попробуем создать новые антитела.\n",
    "\n",
    "Модель - почти полная копия модели с практики, но есть дополнительное условие: теперь кроме текущего токена и предыдущего скрытого состояния пусть наша ячейка принимает ещё метку биологического вида, к которому должно относиться антитело, вроде такого:"
   ]
  },
  {
   "cell_type": "code",
   "execution_count": 188,
   "metadata": {
    "execution": {
     "iopub.execute_input": "2024-11-08T22:04:42.103967Z",
     "iopub.status.busy": "2024-11-08T22:04:42.102771Z",
     "iopub.status.idle": "2024-11-08T22:04:42.117392Z",
     "shell.execute_reply": "2024-11-08T22:04:42.116658Z",
     "shell.execute_reply.started": "2024-11-08T22:04:42.103923Z"
    },
    "tags": []
   },
   "outputs": [],
   "source": [
    "class ConditionalRNNCell(nn.Module):\n",
    "    \"\"\"\n",
    "    (x_{t}, h_{t-1}, c) -> h_{t}\n",
    "    \"\"\"\n",
    "    def __init__(self, input_dim: int, class_dim: int, hidden_dim: int) -> None:\n",
    "        super().__init__()\n",
    "        self.linear = nn.Linear(input_dim + class_dim + hidden_dim, hidden_dim)\n",
    "\n",
    "    def forward(self, x: Tensor, c: Tensor, h: Tensor) -> Tensor:\n",
    "        # x: B x input_dim: эмбеддинг последнего токен\n",
    "        # c: B x class_dim: эмбеддинг биологического вида\n",
    "        # h: B x hidden_dim: последнее скрытое состояние\n",
    "        h = torch.cat([x, c, h], dim=1)\n",
    "        h = self.linear(h)\n",
    "        return F.tanh(h)"
   ]
  },
  {
   "cell_type": "code",
   "execution_count": 177,
   "metadata": {
    "execution": {
     "iopub.execute_input": "2024-11-08T22:00:33.768374Z",
     "iopub.status.busy": "2024-11-08T22:00:33.767426Z",
     "iopub.status.idle": "2024-11-08T22:00:33.782332Z",
     "shell.execute_reply": "2024-11-08T22:00:33.781685Z",
     "shell.execute_reply.started": "2024-11-08T22:00:33.768343Z"
    },
    "tags": []
   },
   "outputs": [],
   "source": [
    "class ConditionalGRUCell(nn.Module):\n",
    "    \"\"\"\n",
    "    (x_{t}, h_{t-1}, c) -> h_{t}\n",
    "    \"\"\"\n",
    "    def __init__(self, input_dim: int, class_dim: int, hidden_dim: int) -> None:\n",
    "        super().__init__()\n",
    "        self.W = nn.Linear(input_dim + class_dim + hidden_dim, hidden_dim)\n",
    "        self.Wz = nn.Linear(input_dim + class_dim + hidden_dim, hidden_dim)\n",
    "        self.Wr = nn.Linear(input_dim + class_dim + hidden_dim, hidden_dim)\n",
    "\n",
    "    def forward(self, x: Tensor, c: Tensor, h: Tensor) -> Tensor:\n",
    "       # x: B x input_dim: эмбеддинг последнего токен\n",
    "        # c: B x class_dim: эмбеддинг биологического вида\n",
    "        # h: B x hidden_dim: последнее скрытое состояние\n",
    "        z_t = F.sigmoid(self.Wz(torch.cat([h, x, c], dim=1)))\n",
    "        r_t = F.sigmoid(self.Wr(torch.cat([h, x, c], dim=1)))\n",
    "        h_hat = F.tanh(self.W(torch.cat([r_t * h, x, c], dim=1)))\n",
    "        return (1 - z_t) * h + z_t * h_hat"
   ]
  },
  {
   "cell_type": "code",
   "execution_count": 189,
   "metadata": {
    "execution": {
     "iopub.execute_input": "2024-11-08T22:05:00.300248Z",
     "iopub.status.busy": "2024-11-08T22:05:00.299034Z",
     "iopub.status.idle": "2024-11-08T22:05:00.329112Z",
     "shell.execute_reply": "2024-11-08T22:05:00.328315Z",
     "shell.execute_reply.started": "2024-11-08T22:05:00.300201Z"
    },
    "tags": []
   },
   "outputs": [],
   "source": [
    "\n",
    "class GenRNN(nn.Module):\n",
    "    def __init__(self, vocab_size: int = len(VOCAB), class_dim: int = len(SPECIES), hidden_dim: int = 64, cell: nn.Module = ConditionalRNNCell) -> None:\n",
    "        super().__init__()\n",
    "        self.embed = nn.Embedding(vocab_size, hidden_dim)\n",
    "        self.embed_class = nn.Embedding(class_dim, hidden_dim // 8)\n",
    "        self.init_h = nn.Parameter(data=torch.randn(1, hidden_dim))\n",
    "        self.rnn = cell(hidden_dim, hidden_dim // 8, hidden_dim)\n",
    "        self.lm_head = nn.Linear(hidden_dim, vocab_size)\n",
    "\n",
    "\n",
    "    def forward(self, x: Tensor, c: Tensor) -> Tensor:\n",
    "        # x: B x T\n",
    "        # embed(x): B x T -> B x T x hidden_dim\n",
    "        B, T = x.shape\n",
    "\n",
    "        x = self.embed(x)  # B x T x hidden_dim\n",
    "        c = self.embed_class(c)\n",
    "        h = self.init_h.expand((B, -1)) # B x hidden_dim\n",
    "\n",
    "        logits = [] # T x B x V\n",
    "        for t in range(T):\n",
    "            xt = x[:, t, :]\n",
    "            h = self.rnn.forward(xt, c, h)  # B x hidden\n",
    "            y = self.lm_head(h).unsqueeze(1)  # B x 1 x hidden\n",
    "            logits.append(y)\n",
    "            # save prediction for step t + 1\n",
    "\n",
    "        # lm_head: B x T x hidden -> B x T x V\n",
    "        return torch.cat(logits, dim=1)\n",
    "\n"
   ]
  },
  {
   "cell_type": "markdown",
   "metadata": {},
   "source": [
    "**2.1. (2 балла)** Реализуйте архитектуру модели для генерации антител символ за символом\n",
    "\n",
    "**2.2. (2 балла)** Обучите модель в течение 10-50 эпох, постройте графики функции ошибки.\n",
    "\n",
    "**2.3. (4 балла)** Сгенерируйте с помощью модели по 20 антител для каждого биологического вида в отдельных ячейках, выведите их в ноутбуке. Воспользуйтесь функцией `get_sequence_score` (ниже), чтобы посчитать сходство ваших антител с природными (вернее - очень грубую оценку). Посчитайте, сколько антител из сгенерированных вами имеют оценку 0.55 и выше для каждого биологического вида.\n",
    "\n",
    "**2.4. (Бонус 4 балла)** Повторите пункты 2.2 и 2.3, но используйте другой тип рекуррентной ячейки (GRU или LSTM).\n"
   ]
  },
  {
   "cell_type": "code",
   "execution_count": 193,
   "metadata": {
    "execution": {
     "iopub.execute_input": "2024-11-08T22:07:50.985291Z",
     "iopub.status.busy": "2024-11-08T22:07:50.984274Z",
     "iopub.status.idle": "2024-11-08T22:07:51.001276Z",
     "shell.execute_reply": "2024-11-08T22:07:51.000591Z",
     "shell.execute_reply.started": "2024-11-08T22:07:50.985248Z"
    },
    "tags": []
   },
   "outputs": [],
   "source": [
    "def train_epoch(dataloader: DataLoader,model: nn.Module,optimizer: torch.optim.Optimizer):\n",
    "    model.train()\n",
    "    loss_total = 0\n",
    "    n_total = 0\n",
    "\n",
    "    for tokens, labels in train_loader:\n",
    "        logits = model(tokens.to(device), labels.to(device))  \n",
    "        loss = F.cross_entropy(\n",
    "            logits[:, :-1].reshape(-1, len(VOCAB)),\n",
    "            tokens.to(device)[:, 1:].reshape(-1),\n",
    "        )\n",
    "        loss.backward()\n",
    "        optimizer.step()\n",
    "        optimizer.zero_grad()\n",
    "        n_total += labels.size(0)\n",
    "        loss_total += labels.size(0) * loss.item()\n",
    "        \n",
    "    loss=loss_total / n_total\n",
    "    train_loss.append(loss)"
   ]
  },
  {
   "cell_type": "code",
   "execution_count": 194,
   "metadata": {
    "execution": {
     "iopub.execute_input": "2024-11-08T22:07:52.915140Z",
     "iopub.status.busy": "2024-11-08T22:07:52.913975Z",
     "iopub.status.idle": "2024-11-08T22:07:52.935422Z",
     "shell.execute_reply": "2024-11-08T22:07:52.934776Z",
     "shell.execute_reply.started": "2024-11-08T22:07:52.915077Z"
    },
    "tags": []
   },
   "outputs": [],
   "source": [
    "@torch.no_grad()\n",
    "def test_epoch(dataloader: DataLoader,model: nn.Module):\n",
    "    model.eval()\n",
    "    loss_total = 0\n",
    "    n_total = 0\n",
    "\n",
    "    for tokens, labels in train_loader:\n",
    "        logits = model(tokens.to(device), labels.to(device))  \n",
    "        loss = F.cross_entropy(\n",
    "            logits[:, :-1].reshape(-1, len(VOCAB)),\n",
    "            tokens.to(device)[:, 1:].reshape(-1),\n",
    "        )\n",
    "        n_total += labels.size(0)\n",
    "        loss_total += labels.size(0) * loss.item()\n",
    "        \n",
    "    loss=loss_total / n_total\n",
    "    val_loss.append(loss)"
   ]
  },
  {
   "cell_type": "code",
   "execution_count": 195,
   "metadata": {
    "execution": {
     "iopub.execute_input": "2024-11-08T22:08:13.731590Z",
     "iopub.status.busy": "2024-11-08T22:08:13.730472Z",
     "iopub.status.idle": "2024-11-08T22:10:06.333973Z",
     "shell.execute_reply": "2024-11-08T22:10:06.333235Z",
     "shell.execute_reply.started": "2024-11-08T22:08:13.731546Z"
    },
    "tags": []
   },
   "outputs": [
    {
     "name": "stdout",
     "output_type": "stream",
     "text": [
      "EPOCH 0\n",
      "Train: loss=2.29339;Val: loss=1.86373\n",
      "EPOCH 1\n",
      "Train: loss=1.62651;Val: loss=1.44681\n",
      "EPOCH 2\n",
      "Train: loss=1.35943;Val: loss=1.28287\n",
      "EPOCH 3\n",
      "Train: loss=1.23118;Val: loss=1.18270\n",
      "EPOCH 4\n",
      "Train: loss=1.15530;Val: loss=1.12643\n",
      "EPOCH 5\n",
      "Train: loss=1.10593;Val: loss=1.08769\n",
      "EPOCH 6\n",
      "Train: loss=1.07186;Val: loss=1.05686\n",
      "EPOCH 7\n",
      "Train: loss=1.04573;Val: loss=1.03622\n",
      "EPOCH 8\n",
      "Train: loss=1.02600;Val: loss=1.01325\n",
      "EPOCH 9\n",
      "Train: loss=1.00784;Val: loss=1.00004\n",
      "EPOCH 10\n",
      "Train: loss=0.99461;Val: loss=0.98579\n",
      "EPOCH 11\n",
      "Train: loss=0.98276;Val: loss=0.97385\n",
      "EPOCH 12\n",
      "Train: loss=0.97269;Val: loss=0.96895\n",
      "EPOCH 13\n",
      "Train: loss=0.96356;Val: loss=0.95752\n",
      "EPOCH 14\n",
      "Train: loss=0.95624;Val: loss=0.96129\n"
     ]
    }
   ],
   "source": [
    "torch.manual_seed(42)\n",
    "model_rnn = GenRNN().to(device)\n",
    "optimizer = torch.optim.Adam(model_rnn.parameters(), lr=0.001)\n",
    "EPOCHS = 15\n",
    "train_loss = []\n",
    "val_loss = []\n",
    "\n",
    "\n",
    "for epoch in range(EPOCHS):\n",
    "    print(f\"EPOCH {epoch}\")\n",
    "    train_epoch(train_loader,model_rnn,optimizer) \n",
    "    test_epoch(test_loader,model_rnn)    \n",
    "    print(f\"Train: loss={train_loss[-1]:.5f};Val: loss={val_loss[-1]:.5f}\")"
   ]
  },
  {
   "cell_type": "code",
   "execution_count": 196,
   "metadata": {
    "execution": {
     "iopub.execute_input": "2024-11-08T22:10:06.336068Z",
     "iopub.status.busy": "2024-11-08T22:10:06.335313Z",
     "iopub.status.idle": "2024-11-08T22:10:06.515010Z",
     "shell.execute_reply": "2024-11-08T22:10:06.514179Z",
     "shell.execute_reply.started": "2024-11-08T22:10:06.336037Z"
    },
    "tags": []
   },
   "outputs": [
    {
     "name": "stdout",
     "output_type": "stream",
     "text": [
      "RNNCell\n"
     ]
    },
    {
     "data": {
      "image/png": "[encoded data removed]",
      "text/plain": [
       "<Figure size 1000x500 with 1 Axes>"
      ]
     },
     "metadata": {},
     "output_type": "display_data"
    }
   ],
   "source": [
    "print('RNNCell')\n",
    "grafics(train_loss, val_loss, \"Loss\")"
   ]
  },
  {
   "cell_type": "code",
   "execution_count": 200,
   "metadata": {
    "execution": {
     "iopub.execute_input": "2024-11-08T22:13:07.635328Z",
     "iopub.status.busy": "2024-11-08T22:13:07.634263Z",
     "iopub.status.idle": "2024-11-08T22:17:23.541125Z",
     "shell.execute_reply": "2024-11-08T22:17:23.540418Z",
     "shell.execute_reply.started": "2024-11-08T22:13:07.635289Z"
    },
    "tags": []
   },
   "outputs": [
    {
     "name": "stdout",
     "output_type": "stream",
     "text": [
      "EPOCH 0\n",
      "Train: loss=2.35536;Val: loss=1.89129\n",
      "EPOCH 1\n",
      "Train: loss=1.59831;Val: loss=1.36456\n",
      "EPOCH 2\n",
      "Train: loss=1.24769;Val: loss=1.14762\n",
      "EPOCH 3\n",
      "Train: loss=1.09369;Val: loss=1.04138\n",
      "EPOCH 4\n",
      "Train: loss=1.01239;Val: loss=0.97638\n",
      "EPOCH 5\n",
      "Train: loss=0.95881;Val: loss=0.93508\n",
      "EPOCH 6\n",
      "Train: loss=0.92396;Val: loss=0.90602\n",
      "EPOCH 7\n",
      "Train: loss=0.89719;Val: loss=0.88286\n",
      "EPOCH 8\n",
      "Train: loss=0.87931;Val: loss=0.86636\n",
      "EPOCH 9\n",
      "Train: loss=0.86245;Val: loss=0.85054\n",
      "EPOCH 10\n",
      "Train: loss=0.85077;Val: loss=0.84043\n",
      "EPOCH 11\n",
      "Train: loss=0.83978;Val: loss=0.83541\n",
      "EPOCH 12\n",
      "Train: loss=0.82992;Val: loss=0.82237\n",
      "EPOCH 13\n",
      "Train: loss=0.82571;Val: loss=0.81697\n",
      "EPOCH 14\n",
      "Train: loss=0.81727;Val: loss=0.80537\n"
     ]
    }
   ],
   "source": [
    "torch.manual_seed(42)\n",
    "model_gru = GenRNN(cell = ConditionalGRUCell).to(device)\n",
    "optimizer = torch.optim.Adam(model_gru.parameters(), lr=0.001)\n",
    "EPOCHS = 15\n",
    "train_loss = []\n",
    "val_loss = []\n",
    "\n",
    "\n",
    "for epoch in range(EPOCHS):\n",
    "    print(f\"EPOCH {epoch}\")\n",
    "    train_epoch(train_loader,model_gru,optimizer) \n",
    "    test_epoch(test_loader,model_gru)    \n",
    "    print(f\"Train: loss={train_loss[-1]:.5f};Val: loss={val_loss[-1]:.5f}\")"
   ]
  },
  {
   "cell_type": "code",
   "execution_count": 201,
   "metadata": {
    "execution": {
     "iopub.execute_input": "2024-11-08T22:18:01.651858Z",
     "iopub.status.busy": "2024-11-08T22:18:01.650468Z",
     "iopub.status.idle": "2024-11-08T22:18:01.837182Z",
     "shell.execute_reply": "2024-11-08T22:18:01.836303Z",
     "shell.execute_reply.started": "2024-11-08T22:18:01.651780Z"
    },
    "tags": []
   },
   "outputs": [
    {
     "name": "stdout",
     "output_type": "stream",
     "text": [
      "GRUCell\n"
     ]
    },
    {
     "data": {
      "image/png": "[encoded data removed]",
      "text/plain": [
       "<Figure size 1000x500 with 1 Axes>"
      ]
     },
     "metadata": {},
     "output_type": "display_data"
    }
   ],
   "source": [
    "print('GRUCell')\n",
    "grafics(train_loss, val_loss, \"Loss\")"
   ]
  },
  {
   "cell_type": "code",
   "execution_count": 231,
   "metadata": {
    "execution": {
     "iopub.execute_input": "2024-11-08T22:28:54.659813Z",
     "iopub.status.busy": "2024-11-08T22:28:54.658845Z",
     "iopub.status.idle": "2024-11-08T22:28:54.670037Z",
     "shell.execute_reply": "2024-11-08T22:28:54.669439Z",
     "shell.execute_reply.started": "2024-11-08T22:28:54.659770Z"
    },
    "tags": []
   },
   "outputs": [],
   "source": [
    "@torch.no_grad()\n",
    "def generate(model: RNN, max_new_tokens: int, species: dict[str, int] = SPECIES) -> Tensor:\n",
    "    res = []\n",
    "    for s in species:\n",
    "        idx=torch.full(size=(20, 1), fill_value=1, dtype=int).to(device)\n",
    "        for t in range(max_new_tokens):\n",
    "            logits = model.forward(x=idx, c=torch.full(size=(20,), fill_value=species[s], dtype=int).to(device))[:, -1]  # B x T x V\n",
    "            probs = F.softmax(logits, dim=1)  # B x V\n",
    "            new_token = torch.multinomial(probs, 1)\n",
    "            idx = torch.cat([idx, new_token], dim=1).to(device)\n",
    "\n",
    "        res.append(idx)\n",
    "\n",
    "    return torch.stack(res)"
   ]
  },
  {
   "cell_type": "code",
   "execution_count": 232,
   "metadata": {
    "execution": {
     "iopub.execute_input": "2024-11-08T22:28:56.904913Z",
     "iopub.status.busy": "2024-11-08T22:28:56.903889Z",
     "iopub.status.idle": "2024-11-08T22:28:56.914860Z",
     "shell.execute_reply": "2024-11-08T22:28:56.914209Z",
     "shell.execute_reply.started": "2024-11-08T22:28:56.904872Z"
    },
    "tags": []
   },
   "outputs": [],
   "source": [
    "inverse_vocab = {VOCAB[key]: key for key in VOCAB}\n",
    "def decode(species_out_tokens: Tensor) -> list[list[str]]:\n",
    "    decoded_strings = []\n",
    "    for s in species_out_tokens:\n",
    "        species_decoded = []\n",
    "        for x in s:\n",
    "            species_decoded.append(''.join([inverse_vocab[c] if inverse_vocab[c] not in SPECIAL_TOKENS else '' for c in x.tolist()]))\n",
    "        decoded_strings.append(species_decoded)\n",
    "\n",
    "    return decoded_strings"
   ]
  },
  {
   "cell_type": "code",
   "execution_count": 236,
   "metadata": {
    "execution": {
     "iopub.execute_input": "2024-11-08T22:29:31.310397Z",
     "iopub.status.busy": "2024-11-08T22:29:31.309445Z",
     "iopub.status.idle": "2024-11-08T22:29:42.179843Z",
     "shell.execute_reply": "2024-11-08T22:29:42.179146Z",
     "shell.execute_reply.started": "2024-11-08T22:29:31.310368Z"
    },
    "tags": []
   },
   "outputs": [],
   "source": [
    "torch.manual_seed(42)\n",
    "samples_rnn = generate(model_rnn, max_new_tokens=133)\n",
    "samples_gru = generate(model_gru, max_new_tokens=133)"
   ]
  },
  {
   "cell_type": "code",
   "execution_count": 237,
   "metadata": {
    "execution": {
     "iopub.execute_input": "2024-11-08T22:29:45.453955Z",
     "iopub.status.busy": "2024-11-08T22:29:45.452948Z",
     "iopub.status.idle": "2024-11-08T22:29:45.471677Z",
     "shell.execute_reply": "2024-11-08T22:29:45.471029Z",
     "shell.execute_reply.started": "2024-11-08T22:29:45.453914Z"
    },
    "tags": []
   },
   "outputs": [],
   "source": [
    "decoded_rnn = decode(samples_rnn)\n",
    "decoded_gru = decode(samples_gru) "
   ]
  },
  {
   "cell_type": "code",
   "execution_count": 45,
   "metadata": {
    "execution": {
     "iopub.execute_input": "2024-11-08T19:45:05.955827Z",
     "iopub.status.busy": "2024-11-08T19:45:05.954848Z",
     "iopub.status.idle": "2024-11-08T19:45:12.830830Z",
     "shell.execute_reply": "2024-11-08T19:45:12.830044Z",
     "shell.execute_reply.started": "2024-11-08T19:45:05.955781Z"
    },
    "tags": []
   },
   "outputs": [
    {
     "name": "stdout",
     "output_type": "stream",
     "text": [
      "Defaulting to user installation because normal site-packages is not writeable\n",
      "Collecting biopython==1.84\n",
      "  Downloading biopython-1.84-cp310-cp310-manylinux_2_17_x86_64.manylinux2014_x86_64.whl.metadata (12 kB)\n",
      "Requirement already satisfied: numpy in /usr/local/lib/python3.10/dist-packages (from biopython==1.84) (1.22.4)\n",
      "Downloading biopython-1.84-cp310-cp310-manylinux_2_17_x86_64.manylinux2014_x86_64.whl (3.2 MB)\n",
      "\u001b[2K   \u001b[90m━━━━━━━━━━━━━━━━━━━━━━━━━━━━━━━━━━━━━━━━\u001b[0m \u001b[32m3.2/3.2 MB\u001b[0m \u001b[31m17.1 MB/s\u001b[0m eta \u001b[36m0:00:00\u001b[0ma \u001b[36m0:00:01\u001b[0m\n",
      "\u001b[?25hInstalling collected packages: biopython\n",
      "Successfully installed biopython-1.84\n",
      "\n",
      "\u001b[1m[\u001b[0m\u001b[34;49mnotice\u001b[0m\u001b[1;39;49m]\u001b[0m\u001b[39;49m A new release of pip is available: \u001b[0m\u001b[31;49m23.0.1\u001b[0m\u001b[39;49m -> \u001b[0m\u001b[32;49m24.3.1\u001b[0m\n",
      "\u001b[1m[\u001b[0m\u001b[34;49mnotice\u001b[0m\u001b[1;39;49m]\u001b[0m\u001b[39;49m To update, run: \u001b[0m\u001b[32;49mpython3 -m pip install --upgrade pip\u001b[0m\n"
     ]
    }
   ],
   "source": [
    "%pip install biopython==1.84"
   ]
  },
  {
   "cell_type": "code",
   "execution_count": 207,
   "metadata": {
    "execution": {
     "iopub.execute_input": "2024-11-08T22:19:15.320671Z",
     "iopub.status.busy": "2024-11-08T22:19:15.319573Z",
     "iopub.status.idle": "2024-11-08T22:19:15.342557Z",
     "shell.execute_reply": "2024-11-08T22:19:15.341930Z",
     "shell.execute_reply.started": "2024-11-08T22:19:15.320625Z"
    },
    "tags": []
   },
   "outputs": [],
   "source": [
    "from Bio.Align import PairwiseAligner\n",
    "\n",
    "\n",
    "def get_sequence_score(query_sequence: str) -> float:\n",
    "    references = [\n",
    "        \"QVQLQQPGAELVKPGASVKMSCKAS_WITWVKQRPGQGLEWIGDI_TNYNEKFKTKATLTVDTSSSTAYMQLSSLTSEDSAVYYCAR_WGQGTSVTVSS\",\n",
    "        \"EVKLEESGGGLVQPGGSMKLSCAAS_WMDWVRQSPEKGLEWVAEI_TYYAESVKGRFTISRDDSKSSVYLQMNSLRAEDTGIYYCTA_WGQGTLVTVSA\",\n",
    "        \"HVQLVESGGGSVQPGGSLRLSCTVS_CMGWFRRAPGKEREKVATL_TSYADSVKGRFAISQDPAKNTLWLQMNSLKPEDSATYYCAA_SSRGTQVTVS\",\n",
    "        \"QVQLVESGGGSVQAGGSLKLSCAAS_CMGWSRQAPGKGREGVARI_TAYADSVKGRFTISHDSIKNTLYLQMNSLRPEDTAKYYCAA_WGQGTQVTV\",\n",
    "        \"QSLEESGGDLVKPGASLTLTCTAS_YMCWVRQAPGKGLEWIACI_TYYASWAKGRFTISKTSSTTVTLQMTSLTAADTATYFCAS_WGQGTLVTVS\",\n",
    "        \"QEQLVESGGGLVKPGASLTLTCKAS_VMCWVRQAPGKGLEWIACI_SVYASWAKGRSTISRTSSTTVTLQMTSLTAADTATYFCAR_RGPGTLVTVS\",\n",
    "        \"SVKVSCKAS_WIQWVRQAPGQGLEWMGWM_TTYSPKFQGRVSMTSDKSITTAYLELRGLTSDDTAVYSCAR_WGQGTLITVTS\",\n",
    "    ]\n",
    "    max_score = 0.0\n",
    "    for ref in map(lambda s: s.replace(\"_\", \"\"), references):\n",
    "        alignment = PairwiseAligner().align(query_sequence, ref)[0]\n",
    "        n_matches = sum(\n",
    "            1 for i in range(alignment.length) if alignment[0][i] == alignment[1][i]\n",
    "        )\n",
    "        max_score = max(max_score, n_matches / len(ref))\n",
    "\n",
    "    return max_score"
   ]
  },
  {
   "cell_type": "code",
   "execution_count": 238,
   "metadata": {
    "execution": {
     "iopub.execute_input": "2024-11-08T22:29:56.974870Z",
     "iopub.status.busy": "2024-11-08T22:29:56.973908Z",
     "iopub.status.idle": "2024-11-08T22:31:04.834274Z",
     "shell.execute_reply": "2024-11-08T22:31:04.833463Z",
     "shell.execute_reply.started": "2024-11-08T22:29:56.974829Z"
    },
    "tags": []
   },
   "outputs": [
    {
     "name": "stdout",
     "output_type": "stream",
     "text": [
      "Camel 9\n",
      "Human 9\n",
      "Mouse 7\n",
      "Rabbit 7\n",
      "Rhesus 9\n"
     ]
    }
   ],
   "source": [
    "inverse_species = {SPECIES[key]: key for key in SPECIES}\n",
    "def good_antibodies(decoded):\n",
    "    for i in range(len(decoded)):\n",
    "        species_cnt = 0\n",
    "        for j in range(len(decoded[i])):\n",
    "            species_cnt += 1 if len(decoded[i][j]) and get_sequence_score(decoded[i][j]) > 0.55 else 0\n",
    "        print(inverse_species[i], species_cnt)\n",
    "good_antibodies(decoded_rnn)"
   ]
  },
  {
   "cell_type": "code",
   "execution_count": 239,
   "metadata": {
    "execution": {
     "iopub.execute_input": "2024-11-08T22:31:04.836374Z",
     "iopub.status.busy": "2024-11-08T22:31:04.835474Z",
     "iopub.status.idle": "2024-11-08T22:32:13.714389Z",
     "shell.execute_reply": "2024-11-08T22:32:13.713676Z",
     "shell.execute_reply.started": "2024-11-08T22:31:04.836334Z"
    },
    "tags": []
   },
   "outputs": [
    {
     "name": "stdout",
     "output_type": "stream",
     "text": [
      "Camel 13\n",
      "Human 17\n",
      "Mouse 18\n",
      "Rabbit 14\n",
      "Rhesus 19\n"
     ]
    }
   ],
   "source": [
    "good_antibodies(decoded_gru)"
   ]
  }
 ],
 "metadata": {
  "kernelspec": {
   "display_name": "DataSphere Kernel",
   "language": "python",
   "name": "python3"
  },
  "language_info": {
   "codemirror_mode": {
    "name": "ipython",
    "version": 3
   },
   "file_extension": ".py",
   "mimetype": "text/x-python",
   "name": "python",
   "nbconvert_exporter": "python",
   "pygments_lexer": "ipython3",
   "version": "3.10.12"
  }
 },
 "nbformat": 4,
 "nbformat_minor": 4
}
